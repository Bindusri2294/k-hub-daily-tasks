{
  "nbformat": 4,
  "nbformat_minor": 0,
  "metadata": {
    "colab": {
      "provenance": [],
      "authorship_tag": "ABX9TyONpGX/VY0YGf5M8HDMyB1L",
      "include_colab_link": true
    },
    "kernelspec": {
      "name": "python3",
      "display_name": "Python 3"
    },
    "language_info": {
      "name": "python"
    }
  },
  "cells": [
    {
      "cell_type": "markdown",
      "metadata": {
        "id": "view-in-github",
        "colab_type": "text"
      },
      "source": [
        "<a href=\"https://colab.research.google.com/github/Bindusri2294/k-hub-daily-tasks/blob/main/k_hub_task.ipynb\" target=\"_parent\"><img src=\"https://colab.research.google.com/assets/colab-badge.svg\" alt=\"Open In Colab\"/></a>"
      ]
    },
    {
      "cell_type": "code",
      "execution_count": null,
      "metadata": {
        "colab": {
          "base_uri": "https://localhost:8080/"
        },
        "id": "n-DJrCUrIlCh",
        "outputId": "6502f5e7-535e-4a75-f186-31232c307bf5"
      },
      "outputs": [
        {
          "output_type": "stream",
          "name": "stdout",
          "text": [
            "hello\n",
            "bindu\n"
          ]
        }
      ],
      "source": [
        "print('hello')\n",
        "print(\"bindu\")"
      ]
    },
    {
      "cell_type": "code",
      "source": [
        "a=\"python is easy\"\n",
        "x=a.capitalize()\n",
        "print(x)"
      ],
      "metadata": {
        "colab": {
          "base_uri": "https://localhost:8080/"
        },
        "id": "6m-3q0vSJCEu",
        "outputId": "864c9554-6d74-4040-aa75-8cd43fd06891"
      },
      "execution_count": null,
      "outputs": [
        {
          "output_type": "stream",
          "name": "stdout",
          "text": [
            "Python is easy\n"
          ]
        }
      ]
    },
    {
      "cell_type": "code",
      "source": [
        "a=\"19 is my age\"\n",
        "x=a.capitalize ()\n",
        "print (x)"
      ],
      "metadata": {
        "colab": {
          "base_uri": "https://localhost:8080/"
        },
        "id": "Jfn6e0sdJWol",
        "outputId": "58d71899-6ed4-4da0-85b9-95bad43c9c43"
      },
      "execution_count": null,
      "outputs": [
        {
          "output_type": "stream",
          "name": "stdout",
          "text": [
            "19 is my age\n"
          ]
        }
      ]
    },
    {
      "cell_type": "code",
      "source": [
        "a=\"Hello Welcome To My World \"\n",
        "x=a.casefold()\n",
        "print (x)"
      ],
      "metadata": {
        "colab": {
          "base_uri": "https://localhost:8080/"
        },
        "id": "1FCWNiUXJo_M",
        "outputId": "03cab868-8781-41bb-9d3e-a8d51bf52075"
      },
      "execution_count": null,
      "outputs": [
        {
          "output_type": "stream",
          "name": "stdout",
          "text": [
            "hello welcome to my world \n"
          ]
        }
      ]
    },
    {
      "cell_type": "code",
      "source": [
        "a=\"banana\"\n",
        "x=a.center(20,\"0\")\n",
        "print(x)"
      ],
      "metadata": {
        "colab": {
          "base_uri": "https://localhost:8080/"
        },
        "id": "kUGBr9pjKFH9",
        "outputId": "ac172b99-1a05-4566-baf7-e0cf3c3ee0b1"
      },
      "execution_count": null,
      "outputs": [
        {
          "output_type": "stream",
          "name": "stdout",
          "text": [
            "0000000banana0000000\n"
          ]
        }
      ]
    },
    {
      "cell_type": "code",
      "source": [
        "a=\"bindusri\"\n",
        "x=a.count(\"u\")\n",
        "print (x)"
      ],
      "metadata": {
        "colab": {
          "base_uri": "https://localhost:8080/"
        },
        "id": "c8amkU5gKa5W",
        "outputId": "954ee524-1c83-4738-d47f-dc6fedcf6a30"
      },
      "execution_count": null,
      "outputs": [
        {
          "output_type": "stream",
          "name": "stdout",
          "text": [
            "1\n"
          ]
        }
      ]
    },
    {
      "cell_type": "code",
      "source": [
        "a=(\"Hello welcome to my world \")\n",
        "x=a.endswith(\"my \")\n",
        "print (x)"
      ],
      "metadata": {
        "colab": {
          "base_uri": "https://localhost:8080/"
        },
        "id": "MlE5nhf7KymG",
        "outputId": "f5e99b9e-9362-4cf8-86ed-0940ad7aeab4"
      },
      "execution_count": null,
      "outputs": [
        {
          "output_type": "stream",
          "name": "stdout",
          "text": [
            "False\n"
          ]
        }
      ]
    },
    {
      "cell_type": "code",
      "source": [
        "a=(\"I love python\")\n",
        "x=a.index(\"lo\")\n",
        "print(x)"
      ],
      "metadata": {
        "colab": {
          "base_uri": "https://localhost:8080/"
        },
        "id": "uPIkW3vMMOrE",
        "outputId": "291160a8-85d3-44bc-e683-390cd58c8a3b"
      },
      "execution_count": null,
      "outputs": [
        {
          "output_type": "stream",
          "name": "stdout",
          "text": [
            "2\n"
          ]
        }
      ]
    },
    {
      "cell_type": "code",
      "source": [
        "a=(\"this is book\")\n",
        "x=a.startswith(\"this\")\n",
        "print (x)"
      ],
      "metadata": {
        "colab": {
          "base_uri": "https://localhost:8080/"
        },
        "id": "TYCcdWWMNIxj",
        "outputId": "09825cfe-4d8e-49de-dc6b-53dba6ae8d9f"
      },
      "execution_count": null,
      "outputs": [
        {
          "output_type": "stream",
          "name": "stdout",
          "text": [
            "True\n"
          ]
        }
      ]
    },
    {
      "cell_type": "code",
      "source": [],
      "metadata": {
        "id": "ZRO1cCuGNmYu"
      },
      "execution_count": null,
      "outputs": []
    }
  ]
}