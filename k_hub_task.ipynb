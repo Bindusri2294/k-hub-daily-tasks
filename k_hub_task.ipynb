{
  "nbformat": 4,
  "nbformat_minor": 0,
  "metadata": {
    "colab": {
      "provenance": [],
      "authorship_tag": "ABX9TyNuG9bxk8Ebwc7otatZ6J+9",
      "include_colab_link": true
    },
    "kernelspec": {
      "name": "python3",
      "display_name": "Python 3"
    },
    "language_info": {
      "name": "python"
    }
  },
  "cells": [
    {
      "cell_type": "markdown",
      "metadata": {
        "id": "view-in-github",
        "colab_type": "text"
      },
      "source": [
        "<a href=\"https://colab.research.google.com/github/Bindusri2294/k-hub-daily-tasks/blob/main/k_hub_task.ipynb\" target=\"_parent\"><img src=\"https://colab.research.google.com/assets/colab-badge.svg\" alt=\"Open In Colab\"/></a>"
      ]
    },
    {
      "cell_type": "code",
      "execution_count": null,
      "metadata": {
        "colab": {
          "base_uri": "https://localhost:8080/"
        },
        "id": "n-DJrCUrIlCh",
        "outputId": "6502f5e7-535e-4a75-f186-31232c307bf5"
      },
      "outputs": [
        {
          "output_type": "stream",
          "name": "stdout",
          "text": [
            "hello\n",
            "bindu\n"
          ]
        }
      ],
      "source": [
        "print('hello')\n",
        "print(\"bindu\")"
      ]
    },
    {
      "cell_type": "code",
      "source": [],
      "metadata": {
        "id": "ChdMRbaZz5Js"
      },
      "execution_count": null,
      "outputs": []
    },
    {
      "cell_type": "code",
      "source": [
        "a=\"python is easy\"\n",
        "x=a.capitalize()\n",
        "print(x)"
      ],
      "metadata": {
        "colab": {
          "base_uri": "https://localhost:8080/"
        },
        "id": "6m-3q0vSJCEu",
        "outputId": "864c9554-6d74-4040-aa75-8cd43fd06891"
      },
      "execution_count": null,
      "outputs": [
        {
          "output_type": "stream",
          "name": "stdout",
          "text": [
            "Python is easy\n"
          ]
        }
      ]
    },
    {
      "cell_type": "code",
      "source": [
        "a=\"19 is my age\"\n",
        "x=a.capitalize ()\n",
        "print (x)"
      ],
      "metadata": {
        "colab": {
          "base_uri": "https://localhost:8080/"
        },
        "id": "Jfn6e0sdJWol",
        "outputId": "58d71899-6ed4-4da0-85b9-95bad43c9c43"
      },
      "execution_count": null,
      "outputs": [
        {
          "output_type": "stream",
          "name": "stdout",
          "text": [
            "19 is my age\n"
          ]
        }
      ]
    },
    {
      "cell_type": "code",
      "source": [
        "a=\"Hello Welcome To My World \"\n",
        "x=a.casefold()\n",
        "print (x)"
      ],
      "metadata": {
        "colab": {
          "base_uri": "https://localhost:8080/"
        },
        "id": "1FCWNiUXJo_M",
        "outputId": "03cab868-8781-41bb-9d3e-a8d51bf52075"
      },
      "execution_count": null,
      "outputs": [
        {
          "output_type": "stream",
          "name": "stdout",
          "text": [
            "hello welcome to my world \n"
          ]
        }
      ]
    },
    {
      "cell_type": "code",
      "source": [
        "a=\"banana\"\n",
        "x=a.center(20,\"0\")\n",
        "print(x)"
      ],
      "metadata": {
        "colab": {
          "base_uri": "https://localhost:8080/"
        },
        "id": "kUGBr9pjKFH9",
        "outputId": "ac172b99-1a05-4566-baf7-e0cf3c3ee0b1"
      },
      "execution_count": null,
      "outputs": [
        {
          "output_type": "stream",
          "name": "stdout",
          "text": [
            "0000000banana0000000\n"
          ]
        }
      ]
    },
    {
      "cell_type": "code",
      "source": [
        "a=\"bindusri\"\n",
        "x=a.count(\"u\")\n",
        "print (x)"
      ],
      "metadata": {
        "colab": {
          "base_uri": "https://localhost:8080/"
        },
        "id": "c8amkU5gKa5W",
        "outputId": "954ee524-1c83-4738-d47f-dc6fedcf6a30"
      },
      "execution_count": null,
      "outputs": [
        {
          "output_type": "stream",
          "name": "stdout",
          "text": [
            "1\n"
          ]
        }
      ]
    },
    {
      "cell_type": "code",
      "source": [
        "a=(\"Hello welcome to my world \")\n",
        "x=a.endswith(\"my \")\n",
        "print (x)"
      ],
      "metadata": {
        "colab": {
          "base_uri": "https://localhost:8080/"
        },
        "id": "MlE5nhf7KymG",
        "outputId": "f5e99b9e-9362-4cf8-86ed-0940ad7aeab4"
      },
      "execution_count": null,
      "outputs": [
        {
          "output_type": "stream",
          "name": "stdout",
          "text": [
            "False\n"
          ]
        }
      ]
    },
    {
      "cell_type": "code",
      "source": [
        "a=(\"I love python\")\n",
        "x=a.index(\"lo\")\n",
        "print(x)"
      ],
      "metadata": {
        "colab": {
          "base_uri": "https://localhost:8080/"
        },
        "id": "uPIkW3vMMOrE",
        "outputId": "291160a8-85d3-44bc-e683-390cd58c8a3b"
      },
      "execution_count": null,
      "outputs": [
        {
          "output_type": "stream",
          "name": "stdout",
          "text": [
            "2\n"
          ]
        }
      ]
    },
    {
      "cell_type": "code",
      "source": [
        "a=(\"this is book\")\n",
        "x=a.startswith(\"this\")\n",
        "print (x)"
      ],
      "metadata": {
        "colab": {
          "base_uri": "https://localhost:8080/"
        },
        "id": "TYCcdWWMNIxj",
        "outputId": "09825cfe-4d8e-49de-dc6b-53dba6ae8d9f"
      },
      "execution_count": null,
      "outputs": [
        {
          "output_type": "stream",
          "name": "stdout",
          "text": [
            "True\n"
          ]
        }
      ]
    },
    {
      "cell_type": "code",
      "source": [
        "a = True\n",
        "b = False\n",
        "\n",
        "print(type(a))"
      ],
      "metadata": {
        "id": "ZRO1cCuGNmYu",
        "colab": {
          "base_uri": "https://localhost:8080/"
        },
        "outputId": "ce5e5379-b5df-4f92-85ce-d7e9f63b9c67"
      },
      "execution_count": null,
      "outputs": [
        {
          "output_type": "stream",
          "name": "stdout",
          "text": [
            "<class 'bool'>\n"
          ]
        }
      ]
    },
    {
      "cell_type": "code",
      "source": [
        "x = 10\n",
        "y = 20\n",
        "\n",
        "print(x == y)\n",
        "print(x != y)\n",
        "print(x < y)"
      ],
      "metadata": {
        "colab": {
          "base_uri": "https://localhost:8080/"
        },
        "id": "OlwTIwXcHl3r",
        "outputId": "50339f23-32fc-4a03-e029-9e6aaae6f490"
      },
      "execution_count": null,
      "outputs": [
        {
          "output_type": "stream",
          "name": "stdout",
          "text": [
            "False\n",
            "True\n",
            "True\n"
          ]
        }
      ]
    },
    {
      "cell_type": "code",
      "source": [
        "x = 5\n",
        "print(x > 2 and x < 10)\n",
        "print(x > 2 and x > 10)"
      ],
      "metadata": {
        "colab": {
          "base_uri": "https://localhost:8080/"
        },
        "id": "lzQlpH7XHq-9",
        "outputId": "bf289706-335d-4a3b-eb0d-9800d0c7f5bf"
      },
      "execution_count": null,
      "outputs": [
        {
          "output_type": "stream",
          "name": "stdout",
          "text": [
            "True\n",
            "False\n"
          ]
        }
      ]
    },
    {
      "cell_type": "code",
      "source": [
        "x = 5\n",
        "print(not(x > 2 and x < 10))"
      ],
      "metadata": {
        "colab": {
          "base_uri": "https://localhost:8080/"
        },
        "id": "c7JDQBcwH2CR",
        "outputId": "ebbde730-e018-4685-c7d2-541c5bd5d391"
      },
      "execution_count": null,
      "outputs": [
        {
          "output_type": "stream",
          "name": "stdout",
          "text": [
            "False\n"
          ]
        }
      ]
    },
    {
      "cell_type": "code",
      "source": [
        "age = 18\n",
        "\n",
        "if age >= 18:\n",
        "    print(\"You are an adult.\")\n",
        "else:\n",
        "    print(\"You are a minor.\")"
      ],
      "metadata": {
        "colab": {
          "base_uri": "https://localhost:8080/"
        },
        "id": "KYft5nA0H2pv",
        "outputId": "90034525-5e06-4c56-ad79-c29b4d4770a2"
      },
      "execution_count": null,
      "outputs": [
        {
          "output_type": "stream",
          "name": "stdout",
          "text": [
            "You are an adult.\n"
          ]
        }
      ]
    },
    {
      "cell_type": "code",
      "source": [
        "\n",
        "bool(False)\n",
        "bool(None)\n",
        "bool(0)\n",
        "bool(\"\")\n",
        "bool([])\n",
        "bool({})"
      ],
      "metadata": {
        "colab": {
          "base_uri": "https://localhost:8080/"
        },
        "id": "2NxNZrBZH3B3",
        "outputId": "3255b84d-428f-46c3-db85-25b5a4aed7a8"
      },
      "execution_count": null,
      "outputs": [
        {
          "output_type": "execute_result",
          "data": {
            "text/plain": [
              "False"
            ]
          },
          "metadata": {},
          "execution_count": 17
        }
      ]
    },
    {
      "cell_type": "code",
      "source": [
        "print(bool(\"Hello\"))\n",
        "print(bool([1, 2, 3]))"
      ],
      "metadata": {
        "colab": {
          "base_uri": "https://localhost:8080/"
        },
        "id": "rz8xU_NRIA67",
        "outputId": "80d92d24-85db-4cc8-d79e-ead68fb90937"
      },
      "execution_count": null,
      "outputs": [
        {
          "output_type": "stream",
          "name": "stdout",
          "text": [
            "True\n",
            "True\n"
          ]
        }
      ]
    },
    {
      "cell_type": "code",
      "source": [
        "x = 5\n",
        "print(x > 2 or x < 3)\n",
        "print(x < 2 or x > 10)"
      ],
      "metadata": {
        "colab": {
          "base_uri": "https://localhost:8080/"
        },
        "id": "nxJkt1seHuNZ",
        "outputId": "0bd7f025-6f2c-422f-c988-46553c789946"
      },
      "execution_count": null,
      "outputs": [
        {
          "output_type": "stream",
          "name": "stdout",
          "text": [
            "True\n",
            "False\n"
          ]
        }
      ]
    },
    {
      "cell_type": "code",
      "source": [
        "my_list = [10, 20, 30, 20]\n",
        "print(my_list)\n",
        "my_list[0] = 100\n",
        "print(my_list)"
      ],
      "metadata": {
        "colab": {
          "base_uri": "https://localhost:8080/"
        },
        "id": "C0-WaiNpIgEm",
        "outputId": "ae7561f9-59b6-494a-fcc8-8d973d7ff2b4"
      },
      "execution_count": null,
      "outputs": [
        {
          "output_type": "stream",
          "name": "stdout",
          "text": [
            "[10, 20, 30, 20]\n",
            "[100, 20, 30, 20]\n"
          ]
        }
      ]
    },
    {
      "cell_type": "code",
      "source": [
        "my_list.append(40)\n",
        "my_list.remove(20)\n",
        "my_list.sort()"
      ],
      "metadata": {
        "id": "TL5O7q6zIlrZ"
      },
      "execution_count": null,
      "outputs": []
    },
    {
      "cell_type": "code",
      "source": [
        "my_tuple = (1, 2, 3, 2)\n",
        "print(my_tuple)\n",
        "print(my_tuple[1])"
      ],
      "metadata": {
        "colab": {
          "base_uri": "https://localhost:8080/"
        },
        "id": "eTom_82oIors",
        "outputId": "911bc856-8f96-4bd4-e3c7-6fde8f491f67"
      },
      "execution_count": null,
      "outputs": [
        {
          "output_type": "stream",
          "name": "stdout",
          "text": [
            "(1, 2, 3, 2)\n",
            "2\n"
          ]
        }
      ]
    },
    {
      "cell_type": "code",
      "source": [
        "my_set = {10, 20, 30, 20}\n",
        "print(my_set)         # {10, 20, 30} — duplicate removed\n",
        "\n",
        "my_set.add(40)\n",
        "my_set.remove(10)"
      ],
      "metadata": {
        "colab": {
          "base_uri": "https://localhost:8080/"
        },
        "id": "-QLlRGTrIxWR",
        "outputId": "ef41464d-d3a8-4bc2-97b3-d4bc30293f59"
      },
      "execution_count": null,
      "outputs": [
        {
          "output_type": "stream",
          "name": "stdout",
          "text": [
            "{10, 20, 30}\n"
          ]
        }
      ]
    },
    {
      "cell_type": "code",
      "source": [
        "my_dict = {\"name\": \"Alice\", \"age\": 25, \"city\": \"New York\"}\n",
        "print(my_dict[\"name\"])     # Alice\n",
        "\n",
        "my_dict[\"age\"] = 26        # Update value\n",
        "my_dict[\"country\"] = \"USA\" # Add new key-value"
      ],
      "metadata": {
        "colab": {
          "base_uri": "https://localhost:8080/"
        },
        "id": "xjhs7GOQI060",
        "outputId": "34bf9a7d-c4e2-4a75-90e4-fcfde49a883a"
      },
      "execution_count": null,
      "outputs": [
        {
          "output_type": "stream",
          "name": "stdout",
          "text": [
            "Alice\n"
          ]
        }
      ]
    },
    {
      "cell_type": "code",
      "source": [
        "my_dict.keys()\n",
        "my_dict.values()\n",
        "my_dict.items()\n",
        "my_dict.get(\"bindu\")\n",
        "print (\"get\")"
      ],
      "metadata": {
        "colab": {
          "base_uri": "https://localhost:8080/"
        },
        "id": "AOgU8glOI5rx",
        "outputId": "b54e0a03-4ba8-43ca-aec0-bc344bea05d5"
      },
      "execution_count": null,
      "outputs": [
        {
          "output_type": "stream",
          "name": "stdout",
          "text": [
            "get\n"
          ]
        }
      ]
    },
    {
      "cell_type": "code",
      "source": [
        "age = 20\n",
        "\n",
        "if age >= 18:\n",
        "    print(\"You are an adult.\")"
      ],
      "metadata": {
        "colab": {
          "base_uri": "https://localhost:8080/"
        },
        "id": "xdxvn_TTJfR4",
        "outputId": "bcb2705e-0371-4e25-8664-84b1127498a5"
      },
      "execution_count": null,
      "outputs": [
        {
          "output_type": "stream",
          "name": "stdout",
          "text": [
            "You are an adult.\n"
          ]
        }
      ]
    },
    {
      "cell_type": "code",
      "source": [
        "age = 15\n",
        "\n",
        "if age >= 18:\n",
        "    print(\"You are an adult.\")\n",
        "else:\n",
        "    print(\"You are a minor.\")"
      ],
      "metadata": {
        "colab": {
          "base_uri": "https://localhost:8080/"
        },
        "id": "NVhOTBjNJiW2",
        "outputId": "15eb8295-a6ef-4e5b-b650-6458f5f30ec3"
      },
      "execution_count": null,
      "outputs": [
        {
          "output_type": "stream",
          "name": "stdout",
          "text": [
            "You are a minor.\n"
          ]
        }
      ]
    },
    {
      "cell_type": "code",
      "source": [
        "marks = 85\n",
        "\n",
        "if marks >= 90:\n",
        "    print(\"Grade: A\")\n",
        "elif marks >= 75:\n",
        "    print(\"Grade: B\")\n",
        "elif marks >= 60:\n",
        "    print(\"Grade: C\")\n",
        "else:\n",
        "    print(\"Grade: F\")"
      ],
      "metadata": {
        "colab": {
          "base_uri": "https://localhost:8080/"
        },
        "id": "aSMC7y8pJlS5",
        "outputId": "6c2e309a-0355-4740-f42b-77983710c2ad"
      },
      "execution_count": null,
      "outputs": [
        {
          "output_type": "stream",
          "name": "stdout",
          "text": [
            "Grade: B\n"
          ]
        }
      ]
    },
    {
      "cell_type": "code",
      "source": [
        "age = 25\n",
        "citizen = True\n",
        "\n",
        "if age >= 18:\n",
        "    if citizen:\n",
        "        print(\"Eligible to vote\")\n",
        "    else:\n",
        "        print(\"Not a citizen\")\n",
        "else:\n",
        "    print(\"Too young to vote\")"
      ],
      "metadata": {
        "colab": {
          "base_uri": "https://localhost:8080/"
        },
        "id": "pZb_w7RjJoRe",
        "outputId": "97635a4d-a411-4c8b-dbab-e1d050fb56ca"
      },
      "execution_count": null,
      "outputs": [
        {
          "output_type": "stream",
          "name": "stdout",
          "text": [
            "Eligible to vote\n"
          ]
        }
      ]
    },
    {
      "cell_type": "code",
      "source": [
        "is_logged_in = True\n",
        "\n",
        "if is_logged_in:\n",
        "    print(\"Welcome back!\")\n",
        "else:\n",
        "    print(\"Please log in.\")"
      ],
      "metadata": {
        "colab": {
          "base_uri": "https://localhost:8080/"
        },
        "id": "KYSnSlqrJruW",
        "outputId": "967e10b3-5d68-46a4-e60c-ca433b14b946"
      },
      "execution_count": null,
      "outputs": [
        {
          "output_type": "stream",
          "name": "stdout",
          "text": [
            "Welcome back!\n"
          ]
        }
      ]
    },
    {
      "cell_type": "code",
      "source": [
        "x = 10\n",
        "if x > 5: print(\"x is greater than 5\")"
      ],
      "metadata": {
        "colab": {
          "base_uri": "https://localhost:8080/"
        },
        "id": "jDBd1lqhJuUV",
        "outputId": "7c8a83bc-95ac-428e-ed11-7a033b2da3e9"
      },
      "execution_count": null,
      "outputs": [
        {
          "output_type": "stream",
          "name": "stdout",
          "text": [
            "x is greater than 5\n"
          ]
        }
      ]
    },
    {
      "cell_type": "code",
      "source": [
        "a = 20\n",
        "b = 15\n",
        "print(\"a is greater\") if a > b else print(\"b is greater\")"
      ],
      "metadata": {
        "colab": {
          "base_uri": "https://localhost:8080/"
        },
        "id": "g_os3hNRJxpT",
        "outputId": "cc9822f8-3c4b-44d8-9a97-b4b37f114340"
      },
      "execution_count": null,
      "outputs": [
        {
          "output_type": "stream",
          "name": "stdout",
          "text": [
            "a is greater\n"
          ]
        }
      ]
    },
    {
      "cell_type": "code",
      "source": [
        "x = 10\n",
        "y = 5\n",
        "\n",
        "if x > 5 and y < 10:\n",
        "    print(\"Both conditions are True\")"
      ],
      "metadata": {
        "colab": {
          "base_uri": "https://localhost:8080/"
        },
        "id": "lb1mdYtqJ1UV",
        "outputId": "f4f10687-85e0-4aae-b278-3d5a5c728adf"
      },
      "execution_count": null,
      "outputs": [
        {
          "output_type": "stream",
          "name": "stdout",
          "text": [
            "Both conditions are True\n"
          ]
        }
      ]
    },
    {
      "cell_type": "code",
      "source": [],
      "metadata": {
        "id": "ZIWoJw2JKApF"
      },
      "execution_count": null,
      "outputs": []
    },
    {
      "cell_type": "markdown",
      "source": [
        "DAY-2\n",
        "LOOPS AND FUNCTIONS"
      ],
      "metadata": {
        "id": "6vCJ3mwEKB4b"
      }
    },
    {
      "cell_type": "code",
      "source": [
        "# Loop through a list\n",
        "fruits = [\"apple\", \"banana\", \"cherry\"]\n",
        "for fruit in fruits:\n",
        "    print(fruit)"
      ],
      "metadata": {
        "colab": {
          "base_uri": "https://localhost:8080/"
        },
        "id": "fFPxH8-jKJAc",
        "outputId": "871482b6-5f52-4732-be67-0ea729f26eac"
      },
      "execution_count": null,
      "outputs": [
        {
          "output_type": "stream",
          "name": "stdout",
          "text": [
            "apple\n",
            "banana\n",
            "cherry\n"
          ]
        }
      ]
    },
    {
      "cell_type": "code",
      "source": [
        "# Loop through a range of numbers\n",
        "for i in range(5):\n",
        "    print(i)"
      ],
      "metadata": {
        "colab": {
          "base_uri": "https://localhost:8080/"
        },
        "id": "D2JHsPXuKWVY",
        "outputId": "5700c6c5-84f6-409d-d40e-d4e6fe03feb0"
      },
      "execution_count": null,
      "outputs": [
        {
          "output_type": "stream",
          "name": "stdout",
          "text": [
            "0\n",
            "1\n",
            "2\n",
            "3\n",
            "4\n"
          ]
        }
      ]
    },
    {
      "cell_type": "code",
      "source": [],
      "metadata": {
        "id": "pGckuHzwLd7-"
      },
      "execution_count": null,
      "outputs": []
    },
    {
      "cell_type": "code",
      "source": [
        "count = 0\n",
        "while count < 5:\n",
        "    print(count)\n",
        "    count += 1"
      ],
      "metadata": {
        "colab": {
          "base_uri": "https://localhost:8080/"
        },
        "id": "tEYK2BA-Kbod",
        "outputId": "5469671f-9bfc-431f-df27-28f9b12c8ec4"
      },
      "execution_count": null,
      "outputs": [
        {
          "output_type": "stream",
          "name": "stdout",
          "text": [
            "0\n",
            "1\n",
            "2\n",
            "3\n",
            "4\n"
          ]
        }
      ]
    },
    {
      "cell_type": "code",
      "source": [
        "for i in range(5):\n",
        "    if i == 3:\n",
        "        break\n",
        "    print(i)"
      ],
      "metadata": {
        "colab": {
          "base_uri": "https://localhost:8080/"
        },
        "id": "k8HRzs2bKmEO",
        "outputId": "3f85acf4-88ea-4ce2-a282-f6012e43e649"
      },
      "execution_count": null,
      "outputs": [
        {
          "output_type": "stream",
          "name": "stdout",
          "text": [
            "0\n",
            "1\n",
            "2\n"
          ]
        }
      ]
    },
    {
      "cell_type": "code",
      "source": [
        "for i in range(5):\n",
        "    if i == 2:\n",
        "        continue\n",
        "    print(i)"
      ],
      "metadata": {
        "colab": {
          "base_uri": "https://localhost:8080/"
        },
        "id": "Y7HJTJLtKqKz",
        "outputId": "c68b7632-c74b-47db-f94a-57362ee30d37"
      },
      "execution_count": null,
      "outputs": [
        {
          "output_type": "stream",
          "name": "stdout",
          "text": [
            "0\n",
            "1\n",
            "3\n",
            "4\n"
          ]
        }
      ]
    },
    {
      "cell_type": "code",
      "source": [
        "def greet():\n",
        "    print(\"Hello, welcome!\")"
      ],
      "metadata": {
        "id": "2x6mNI3BKvfy"
      },
      "execution_count": null,
      "outputs": []
    },
    {
      "cell_type": "code",
      "source": [
        "greet()"
      ],
      "metadata": {
        "colab": {
          "base_uri": "https://localhost:8080/"
        },
        "id": "Z9mABmOgKxxf",
        "outputId": "6d0ae2bf-dd47-4314-cf07-8c870c6c64e9"
      },
      "execution_count": null,
      "outputs": [
        {
          "output_type": "stream",
          "name": "stdout",
          "text": [
            "Hello, welcome!\n"
          ]
        }
      ]
    },
    {
      "cell_type": "code",
      "source": [
        "def greet(name):\n",
        "    print(\"Hello\", name)\n",
        "\n",
        "greet(\"Alice\")"
      ],
      "metadata": {
        "colab": {
          "base_uri": "https://localhost:8080/"
        },
        "id": "hbQpFackK0Z7",
        "outputId": "c75acbf5-fd0b-4067-e16b-ebcdcc8f384c"
      },
      "execution_count": null,
      "outputs": [
        {
          "output_type": "stream",
          "name": "stdout",
          "text": [
            "Hello Alice\n"
          ]
        }
      ]
    },
    {
      "cell_type": "code",
      "source": [
        "def add(a, b):\n",
        "    return a + b\n",
        "\n",
        "result = add(5, 3)\n",
        "print(result)"
      ],
      "metadata": {
        "colab": {
          "base_uri": "https://localhost:8080/"
        },
        "id": "iFslhLYdK3QK",
        "outputId": "d8672022-5a1d-4222-d577-0a936e9c42a0"
      },
      "execution_count": null,
      "outputs": [
        {
          "output_type": "stream",
          "name": "stdout",
          "text": [
            "8\n"
          ]
        }
      ]
    },
    {
      "cell_type": "code",
      "source": [
        "def greet(name=\"Guest\"):\n",
        "    print(\"Hello\", name)\n",
        "\n",
        "greet()\n",
        "greet(\"Ravi\")"
      ],
      "metadata": {
        "colab": {
          "base_uri": "https://localhost:8080/"
        },
        "id": "DalAQpqMK6cp",
        "outputId": "aef20abb-494a-47ca-83be-0e13eeb9334b"
      },
      "execution_count": null,
      "outputs": [
        {
          "output_type": "stream",
          "name": "stdout",
          "text": [
            "Hello Guest\n",
            "Hello Ravi\n"
          ]
        }
      ]
    },
    {
      "cell_type": "code",
      "source": [
        "def total(*numbers):\n",
        "    return sum(numbers)\n",
        "\n",
        "print(total(1, 2, 3))\n",
        "print(total(5, 10, 15, 20))"
      ],
      "metadata": {
        "colab": {
          "base_uri": "https://localhost:8080/"
        },
        "id": "Qu5ES15MK-UF",
        "outputId": "eedb795d-725c-408a-a0fc-2e10740f054e"
      },
      "execution_count": null,
      "outputs": [
        {
          "output_type": "stream",
          "name": "stdout",
          "text": [
            "6\n",
            "50\n"
          ]
        }
      ]
    },
    {
      "cell_type": "code",
      "source": [
        "\n",
        "square = lambda x: x * x\n",
        "print(square(4))"
      ],
      "metadata": {
        "colab": {
          "base_uri": "https://localhost:8080/"
        },
        "id": "AjdzK1YELDEo",
        "outputId": "d966bc63-e56b-4b93-a538-3efad66ee29f"
      },
      "execution_count": null,
      "outputs": [
        {
          "output_type": "stream",
          "name": "stdout",
          "text": [
            "16\n"
          ]
        }
      ]
    },
    {
      "cell_type": "markdown",
      "source": [
        "COFFEE MACHINE PROGARAM"
      ],
      "metadata": {
        "id": "gZARh_XM23-5"
      }
    },
    {
      "cell_type": "code",
      "source": [
        "MENU = {\n",
        "    \"espresso\": {\"water\": 50, \"milk\": 0, \"coffee\": 18, \"cost\": 7.5},\n",
        "    \"latte\": {\"water\": 200, \"milk\": 150, \"coffee\": 24, \"cost\": 2.5},\n",
        "    \"cappuccino\": {\"water\": 250, \"milk\": 100, \"coffee\": 24, \"cost\": 3.0}\n",
        "}\n",
        "\n",
        "resources = {\"water\": 300, \"milk\": 200, \"coffee\": 100, \"money\": 0}\n",
        "\n",
        "def report():\n",
        "    for item in resources:\n",
        "        unit = \"ml\" if item != \"money\" else \"$\"\n",
        "        print(f\"{item.title()}: {resources[item]}{unit}\")\n",
        "\n",
        "def check_resources(drink):\n",
        "    for item in [\"water\", \"milk\", \"coffee\"]:\n",
        "        if MENU[drink][item] > resources[item]:\n",
        "            print(f\"Sorry there is not enough {item}.\")\n",
        "            return False\n",
        "    return True\n",
        "\n",
        "def process_coins():\n",
        "    print(\"Insert coins:\")\n",
        "    return round(\n",
        "        int(input(\"Quarters: \")) * 0.25 +\n",
        "        int(input(\"Dimes: \")) * 0.10 +\n",
        "        int(input(\"Nickles: \")) * 0.05 +\n",
        "        int(input(\"Pennies: \")) * 0.01, 2\n",
        "    )\n",
        "\n",
        "def make_coffee(drink):\n",
        "    for item in [\"water\", \"milk\", \"coffee\"]:\n",
        "        resources[item] -= MENU[drink][item]\n",
        "    resources[\"money\"] += MENU[drink][\"cost\"]\n",
        "    print(f\"Here is your {drink}. Enjoy!\")\n",
        "\n",
        "while True:\n",
        "    choice = input(\"What would you like? (espresso/latte/cappuccino): \").lower()\n",
        "    if choice == \"off\":\n",
        "        break\n",
        "    elif choice == \"report\":\n",
        "        report()\n",
        "    elif choice in MENU:\n",
        "        if check_resources(choice):\n",
        "            money = process_coins()\n",
        "            cost = MENU[choice][\"cost\"]\n",
        "            if money >= cost:\n",
        "                change = round(money - cost, 2)\n",
        "                if change > 0:\n",
        "                    print(f\"Here is ${change} in change.\")\n",
        "                make_coffee(choice)\n",
        "            else:\n",
        "                print(\"Sorry that's not enough money. Money refunded.\")\n",
        "    else:\n",
        "        print(\"please choose espresso/latte/capppaccino\")\n",
        "\n"
      ],
      "metadata": {
        "id": "s0ouBeY1z9bQ",
        "outputId": "00b51e4e-33be-4dc5-c728-a79c3a032b84",
        "colab": {
          "base_uri": "https://localhost:8080/"
        }
      },
      "execution_count": null,
      "outputs": [
        {
          "metadata": {
            "tags": null
          },
          "name": "stdout",
          "output_type": "stream",
          "text": [
            "Insert coins:\n",
            "Here is $0.92 in change.\n",
            "Here is your latte. Enjoy!\n"
          ]
        }
      ]
    },
    {
      "cell_type": "code",
      "source": [
        "def recursion (n):\n",
        "  if n == 1:\n",
        "    return 1\n",
        "  else:\n",
        "      return n * recursion (n-1)\n",
        "\n",
        "      print(recursion(5))"
      ],
      "metadata": {
        "id": "3mvfeaDRuPy7"
      },
      "execution_count": 8,
      "outputs": []
    },
    {
      "cell_type": "code",
      "source": [
        "def recursion (n):\n",
        "  if n==1:\n",
        "    return 1\n",
        "  else:\n",
        "    return n * recursion(n-1)\n",
        "\n",
        "    print(recursion(10))"
      ],
      "metadata": {
        "id": "kiY91k4yxB2o"
      },
      "execution_count": 10,
      "outputs": []
    }
  ]
}